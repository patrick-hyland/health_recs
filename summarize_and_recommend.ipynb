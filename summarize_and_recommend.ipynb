{
 "cells": [
  {
   "cell_type": "code",
   "execution_count": 1,
   "id": "58b4d483-62e5-4cd8-8bef-47f917752775",
   "metadata": {},
   "outputs": [],
   "source": [
    "## Summarize a medical history by aggregating the CCS descriptions of all their diagnoses and perform NLP techniques to simplify and produce useful and brief summaries\n",
    "### - Techniques include removal of special characters, numbers, stop words, tokenizing, and \"lemmatizing\". The results are then aggregated to a user after removing non-essential codes (e.g. common medical evaluation) from the history\n",
    "## Lleverage a KNN based recommender engine where drugs will be seen as \"users\" and diagnoses and \"items\" in terms of the user-item matrix used in collaborative filtering.\n",
    "### - The idea here being a that a medical summary of an individual can be thought of as complementary, or a \"recommendation\", of drug history.\n",
    "### - Commonly, explicit feedback recommender engines call for a \"rating\" (e.g. person's rating for a movie). This will be replicated in this use case by getting the frequency of drug category-CCS\n",
    "### - combination appearing in a same day for a user, then scaled and rounded to an integer value"
   ]
  },
  {
   "cell_type": "code",
   "execution_count": null,
   "id": "2e38aca8-e5de-4d75-bf1a-06d969960d3d",
   "metadata": {},
   "outputs": [],
   "source": [
    "#!python -m spacy download en\n",
    "#!pip install scikit-surprise"
   ]
  },
  {
   "cell_type": "code",
   "execution_count": 1,
   "id": "735046ac-f13e-4996-ba84-c6be3d3a59c1",
   "metadata": {
    "tags": []
   },
   "outputs": [],
   "source": [
    "import pandas as pd\n",
    "import numpy as np\n",
    "import spacy\n",
    "from nltk.corpus import stopwords\n",
    "from nltk.stem import WordNetLemmatizer\n",
    "# get NLTK resources\n",
    "import nltk\n",
    "nltk.download('stopwords')\n",
    "nltk.download('wordnet')\n",
    "import en_core_web_sm"
   ]
  },
  {
   "cell_type": "code",
   "execution_count": 188,
   "id": "e728553c-8456-4f97-8ba2-23fcb3f5b8e9",
   "metadata": {
    "tags": []
   },
   "outputs": [],
   "source": [
    "#Read in data\n",
    "ccs = pd.read_csv(\"ccs.csv\")\n",
    "claims = pd.read_csv(\"claim_lines.csv\")\n",
    "claims['diag'] = claims['diag1'].str.replace('.', '')\n",
    "drugs = pd.read_csv(\"prescription_drugs.csv\")\n",
    "\n",
    "# Join together and use ccs_3_desc as main description of diagnosis. This provides the most human-readable explanation\n",
    "mems = claims.merge(ccs, on = 'diag', how = 'inner')[['member_id','diag','diag_desc','ccs_1_desc','ccs_2_desc', 'ccs_3_desc']]\n",
    "mems['main_desc'] = mems.ccs_3_desc.str.lower().str.replace(\";\",\"\").str.replace(\"/\",\" \").str.replace(\":\",\" \")"
   ]
  },
  {
   "cell_type": "code",
   "execution_count": 189,
   "id": "5c6c4a02-6b20-45e2-a128-e260da948555",
   "metadata": {
    "tags": []
   },
   "outputs": [],
   "source": [
    "# My approach here is to summarize the CCS and concisely and insightfully as possible\n",
    "\n",
    "nlp = en_core_web_sm.load()\n",
    "# tokenize CCS descriptions, top words lemming, etc to get key words\n",
    "def nlp_pipeline(text):\n",
    "    # Remove numbers and special characters that weren't removed before\n",
    "    text = text.replace('/', ' ')\n",
    "    text = text.replace('(', ' ')\n",
    "    text = text.replace(')', ' ')\n",
    "    #text = re.sub(r'[^a-zA-Z\\s]', '', text)\n",
    "    text = text.replace('\\.', ' ')\n",
    "\n",
    "    # Tokenization\n",
    "    doc = nlp(text)\n",
    "    tokens = [token.text for token in doc]\n",
    "    # Remove stop words\n",
    "    stop_words = set(stopwords.words('english'))\n",
    "    filtered_tokens = [token for token in tokens if token.lower() not in stop_words]\n",
    "\n",
    "    # Lemmatization to remove participles but make it human readable\n",
    "    lemmatizer = WordNetLemmatizer()\n",
    "    lemmatized_tokens = [lemmatizer.lemmatize(token) for token in filtered_tokens]\n",
    "\n",
    "    return ' '.join(lemmatized_tokens)"
   ]
  },
  {
   "cell_type": "code",
   "execution_count": 190,
   "id": "84d20296-0760-4ddb-87bd-ee08af84e6ae",
   "metadata": {
    "tags": []
   },
   "outputs": [
    {
     "name": "stderr",
     "output_type": "stream",
     "text": [
      "/var/tmp/ipykernel_8934/2074160033.py:4: FutureWarning: Series.__getitem__ treating keys as positions is deprecated. In a future version, integer keys will always be treated as labels (consistent with DataFrame behavior). To access a value by position, use `ser.iloc[pos]`\n",
      "  ccs_summ_2=ccs_summ.head(round(ccs_summ.count()[0]*.95))\n",
      "/var/tmp/ipykernel_8934/2074160033.py:5: SettingWithCopyWarning: \n",
      "A value is trying to be set on a copy of a slice from a DataFrame.\n",
      "Try using .loc[row_indexer,col_indexer] = value instead\n",
      "\n",
      "See the caveats in the documentation: https://pandas.pydata.org/pandas-docs/stable/user_guide/indexing.html#returning-a-view-versus-a-copy\n",
      "  ccs_summ_2['main_desc_new']= ccs_summ_2['main_desc'].apply(nlp_pipeline)\n"
     ]
    }
   ],
   "source": [
    "mems2 = mems[['member_id','main_desc']].drop_duplicates()\n",
    "\n",
    "#Find most common descriptions. Eliminate 5% most common since they aren't as important to know from a clinical standpoint e.g. annual physical, common cold, hypertension\n",
    "ccs_summ = mems2.groupby('main_desc')['member_id'].count().reset_index().sort_values('member_id', ascending = True)\n",
    "ccs_summ_2=ccs_summ.head(round(ccs_summ.count()[0]*.95))\n",
    "ccs_summ_2['main_desc_new']= ccs_summ_2['main_desc'].apply(nlp_pipeline)\n",
    "#combine all of a patients CCS's into one for complete history\n",
    "mems3 = mems2.merge(ccs_summ_2[['main_desc','main_desc_new']], on = 'main_desc')\n",
    "summ_df = mems3.groupby('member_id')['main_desc_new'].agg(lambda x: ', '.join(x)).reset_index()\n"
   ]
  },
  {
   "cell_type": "code",
   "execution_count": 191,
   "id": "122abb35-2d4f-40bb-a893-90b9e7e9d267",
   "metadata": {
    "tags": []
   },
   "outputs": [
    {
     "name": "stdout",
     "output_type": "stream",
     "text": [
      "menstrual disorder, complication pregnancy, previous c - section, pregnancy delivery including normal, liveborn\n",
      "adjustment disorder, nonspecific chest pain, coronary atherosclerosis heart disease\n",
      "acquired foot deformity\n",
      "headache including migraine\n",
      "nonspecific chest pain, thyroid disorder, disorder lipid metabolism\n",
      "menstrual disorder, complication pregnancy, pregnancy delivery including normal, liveborn, complication birth puerperium affecting management mother, prolonged pregnancy, congenital anomaly, inflammation infection eye   except caused tuberculosis sexually transmitteddisease\n",
      "nonmalignant breast condition\n",
      "diabetes mellitus without complication\n",
      "joint disorder dislocation trauma - related\n",
      "menstrual disorder, pregnancy delivery including normal, ovarian cyst\n",
      "nutritional deficiency\n",
      "disorder lipid metabolism\n",
      "headache including migraine, administrative social admission\n",
      "thyroid disorder, disorder lipid metabolism, malaise fatigue, ear sense organ disorder, viral infection, influenza, chronic obstructive pulmonary disease bronchiectasis, asthma\n",
      "complication surgical procedure medical care\n",
      "headache including migraine, thyroid disorder, nonmalignant breast condition, joint disorder dislocation trauma - related, asthma, sprain strain, osteoarthritis, mycoses, skin subcutaneous tissue infection, endocrine disorder\n",
      "hemorrhoid\n",
      "adjustment disorder\n",
      "nonmalignant breast condition, urinary tract infection\n",
      "inflammation infection eye   except caused tuberculosis sexually transmitteddisease\n",
      "sprain strain\n",
      "thyroid disorder, administrative social admission, mycoses\n",
      "contraceptive procreative management, fever unknown origin, mood disorder, anxiety disorder\n",
      "viral infection, male genital disorder\n",
      "acute chronic tonsillitis\n",
      "menstrual disorder, calculus urinary tract, otitis medium related condition\n",
      "sprain strain, nausea vomiting, fluid electrolyte disorder, injury condition due external cause, gastrointestinal disorder\n",
      "nutritional deficiency, female genital disorder, complication device implant graft\n",
      "mood disorder, anxiety disorder, gastrointestinal disorder, nutritional endocrine metabolic disorder, multiple sclerosis, blindness vision defect, diabetes mellitus complication\n",
      "intestinal infection\n",
      "viral infection, mycoses, fever unknown origin, otitis medium related condition, allergic reaction, superficial injury contusion\n",
      "gastrointestinal disorder\n",
      "joint disorder dislocation trauma - related\n",
      "thyroid disorder, asthma, condition associated dizziness vertigo, syncope\n",
      "inflammatory condition skin\n",
      "blindness vision defect, eye disorder\n",
      "diabetes mellitus without complication\n",
      "skin subcutaneous tissue infection, injury condition due external cause\n",
      "disorder lipid metabolism, inflammation infection eye   except caused tuberculosis sexually transmitteddisease, blindness vision defect, acute bronchitis, cataract, aftercare\n",
      "menstrual disorder, complication pregnancy, skin subcutaneous tissue infection, injury condition due external cause, infection including parasitic\n",
      "acute chronic tonsillitis, superficial injury contusion\n",
      "nonspecific chest pain, coronary atherosclerosis heart disease, thyroid disorder, diabetes mellitus without complication, viral infection, chronic obstructive pulmonary disease bronchiectasis, asthma, urinary tract infection, fever unknown origin, gastrointestinal disorder, diabetes mellitus complication, liver disease, diverticulosis diverticulitis, pleurisy pneumothorax pulmonary collapse, disease kidney ureter, abdominal hernia, cancer bronchus lung, deficiency anemia, secondary malignancy, respiratory failure insufficiency arrest   adult, systemic lupus erythematosus connective tissue disorder, circulatory disease, maintenance chemotherapy radiotherapy, bone disease musculoskeletal deformity, conduction disorder\n",
      "disorder lipid metabolism, bone disease musculoskeletal deformity\n",
      "nonspecific chest pain, hypertension complication secondary hypertension, congestive heart failure nonhypertensive, cardiac dysrhythmias\n",
      "liver disease\n",
      "disorder lipid metabolism, mycoses, skin subcutaneous tissue infection, inflammatory condition skin, aftercare\n",
      "ear sense organ disorder\n",
      "fracture, spinal cord injury\n",
      "mood disorder\n",
      "viral infection, male genital disorder\n",
      "thyroid disorder, nonmalignant breast condition, inflammatory condition skin, ill - defined cerebrovascular disease\n",
      "superficial injury contusion\n",
      "disease bladder urethra\n",
      "genitourinary symptom ill - defined condition\n",
      "joint disorder dislocation trauma - related, sprain strain\n",
      "acute bronchitis\n",
      "viral infection, inflammatory disease female pelvic organ\n",
      "disorder lipid metabolism, nonmalignant breast condition, diabetes mellitus without complication, ear sense organ disorder, influenza, skin subcutaneous tissue infection, anxiety disorder, cardiac dysrhythmias, leukemia, cancer breast\n",
      "menstrual disorder\n",
      "adjustment disorder, anxiety disorder\n",
      "viral infection, urinary tract infection, eye disorder, genitourinary symptom ill - defined condition, phlebitis thrombophlebitis thromboembolism\n",
      "otitis medium related condition, abdominal hernia\n",
      "thyroid disorder, cancer unspecified primary\n",
      "disorder lipid metabolism\n",
      "chronic obstructive pulmonary disease bronchiectasis\n",
      "complication pregnancy, pregnancy delivery including normal, diabetes mellitus without complication, genitourinary symptom ill - defined condition, diabetes abnormal glucose tolerance complicating pregnancy childbirth puerperium\n",
      "acute bronchitis\n",
      "contraceptive procreative management, adverse effect medical drug\n",
      "coronary atherosclerosis heart disease, disorder lipid metabolism, ear sense organ disorder, asthma, endocrine disorder, otitis medium related condition, acute bronchitis, deficiency anemia, bone disease musculoskeletal deformity, hypertension complication secondary hypertension, hyperplasia prostate, esophageal disorder, neoplasm unspecified nature uncertain behavior\n",
      "headache including migraine\n",
      "headache including migraine, nonmalignant breast condition, ear sense organ disorder, otitis medium related condition, neoplasm unspecified nature uncertain behavior\n",
      "inflammation infection eye   except caused tuberculosis sexually transmitteddisease, blindness vision defect, infective arthritis osteomyelitis   except caused tuberculosis sexually transmitted disease\n",
      "thyroid disorder, viral infection, cardiac dysrhythmias\n",
      "inflammation infection eye   except caused tuberculosis sexually transmitteddisease, viral infection, sprain strain, superficial injury contusion, open wound head neck trunk\n",
      "headache including migraine\n",
      "acute bronchitis\n",
      "ovarian cyst, malaise fatigue, fever unknown origin, nausea vomiting\n",
      "malaise fatigue, cataract, aftercare, liver disease, pleurisy pneumothorax pulmonary collapse, bone disease musculoskeletal deformity\n",
      "contraceptive procreative management, acute bronchitis\n",
      "injury condition due external cause\n",
      "menstrual disorder\n",
      "eye disorder\n",
      "thyroid disorder, abdominal hernia\n",
      "nonspecific chest pain, disorder lipid metabolism, diabetes mellitus without complication, hypertension complication secondary hypertension, genitourinary symptom ill - defined condition, acute unspecified renal failure\n",
      "contraceptive procreative management\n",
      "thyroid disorder, diabetes mellitus without complication\n",
      "nonspecific chest pain, sprain strain, cardiac dysrhythmias\n",
      "inflammation infection eye   except caused tuberculosis sexually transmitteddisease, contraceptive procreative management, acute bronchitis\n",
      "diabetes mellitus without complication, fluid electrolyte disorder, diabetes mellitus complication, eye disorder, liver disease\n",
      "disorder lipid metabolism, diabetes mellitus without complication, diabetes mellitus complication\n",
      "chronic obstructive pulmonary disease bronchiectasis, fever unknown origin, osteoporosis, poisoning nonmedicinal substance\n",
      "thyroid disorder, malaise fatigue, viral infection, osteoarthritis, anxiety disorder, otitis medium related condition, cataract, liver disease, biliary tract disease, rehabilitation care fitting prosthesis adjustment device, acquired deformity, disease white blood cell, hematologic condition\n",
      "nonspecific chest pain, nausea vomiting\n",
      "headache including migraine, nonmalignant breast condition, injury condition due external cause, aftercare, deficiency anemia, secondary malignancy, maintenance chemotherapy radiotherapy, bone disease musculoskeletal deformity, cancer breast, neoplasm unspecified nature uncertain behavior, varicose vein lower extremity\n",
      "skin subcutaneous tissue infection\n",
      "malaise fatigue, skin subcutaneous tissue infection, endocrine disorder, contraceptive procreative management, nutritional endocrine metabolic disorder\n",
      "thyroid disorder, administrative social admission, nutritional endocrine metabolic disorder\n",
      "contraceptive procreative management, nutritional endocrine metabolic disorder, genitourinary symptom ill - defined condition\n",
      "nonspecific chest pain, intestinal infection\n",
      "ear sense organ disorder\n"
     ]
    }
   ],
   "source": [
    "#Print the first 100 patients summaries to verify it's brief yet informative\n",
    "for i in summ_df['main_desc_new'].values[0:100]:\n",
    "    print(i)"
   ]
  },
  {
   "cell_type": "code",
   "execution_count": 192,
   "id": "5493e39e-ec7d-4256-9096-ea2546e0cc37",
   "metadata": {
    "tags": []
   },
   "outputs": [],
   "source": [
    "#Now, we'll begin answering question 2.  Let's re-build our data to include dates so that we can tie a diagnosis to a drug via a visit. Summarize drug using drug category\n",
    "journey = claims.merge(drugs[['drug_category','member_id','date_svc']].drop_duplicates(),on =['member_id','date_svc']).merge(ccs[['diag','ccs_3_desc']].drop_duplicates(), \n",
    "                                                                                                                             on ='diag')\n",
    "journey['main_desc'] = journey.ccs_3_desc.str.lower().str.replace(\";\",\"\").str.replace(\"/\",\" \").str.replace(\":\",\" \")"
   ]
  },
  {
   "cell_type": "code",
   "execution_count": 193,
   "id": "535aabe0-76e2-489f-b38e-2e48720cac0e",
   "metadata": {
    "tags": []
   },
   "outputs": [],
   "source": [
    "journey2 = journey.merge(ccs_summ_2[['main_desc','main_desc_new']])"
   ]
  },
  {
   "cell_type": "code",
   "execution_count": 194,
   "id": "eb21d1c5-bfe1-4be7-97d1-33fa4824e0c5",
   "metadata": {
    "tags": []
   },
   "outputs": [],
   "source": [
    "journey3 = journey2[['member_id','drug_category','main_desc_new']].drop_duplicates()"
   ]
  },
  {
   "cell_type": "code",
   "execution_count": 195,
   "id": "e3438bfd-e933-4022-809d-feb8b6f72e5e",
   "metadata": {
    "tags": []
   },
   "outputs": [],
   "source": [
    "#See how common each combo is. This will be basis for our \"rating\" system that will be fed though a recommender engine\n",
    "all_df_2 = journey3.groupby(['drug_category', 'main_desc_new'])['member_id'].count().reset_index()\n",
    "all_df_2 = all_df_2.rename(columns = {\"member_id\":\"count\"})\n",
    "#Convert frequency to ratings, out of 100\n",
    "all_df_2['drug_Sum'] = all_df_2.groupby(['drug_category'])['count'].transform('sum')\n",
    "all_df_2['rating'] = ((all_df_2['count'] / all_df_2.drug_Sum) * 100) + 1\n",
    "all_df_2['rating'] = all_df_2['rating'].astype(int)"
   ]
  },
  {
   "cell_type": "code",
   "execution_count": 196,
   "id": "182322b2-dcc3-496d-9339-91d29dd5bf34",
   "metadata": {
    "tags": []
   },
   "outputs": [],
   "source": [
    "#For all combos that dont exist, we still want to include them as negative feedback for recommender engine\n",
    "from itertools import product\n",
    "drugs_all = drugs[['drug_category']].drop_duplicates()\n",
    "ccs_all = ccs_summ_2[['main_desc_new']].drop_duplicates()\n",
    "\n",
    "# Get the Cartesian product\n",
    "cartesian_product = list(product(drugs_all['drug_category'], ccs_all['main_desc_new']))\n",
    "\n",
    "# Create a df from the Cartesian product\n",
    "result_df = pd.DataFrame(cartesian_product, columns=['drug_category', 'main_desc_new'])"
   ]
  },
  {
   "cell_type": "code",
   "execution_count": 197,
   "id": "007589d9-5b51-43ae-a7ea-3ce79e8fe09e",
   "metadata": {
    "tags": []
   },
   "outputs": [],
   "source": [
    "#Create final drug, ccs, frequency matrix. Which we'll re-label as 'user', 'item', 'rating'\n",
    "cf_df = all_df_2.merge(result_df, on =['drug_category', 'main_desc_new'], how = 'right').fillna(0)[['drug_category','main_desc_new', 'rating']]\n",
    "cf_df['rating'] = cf_df['rating'].astype(int) + 1\n",
    "cf_df.columns = ['user', 'item', 'rating']"
   ]
  },
  {
   "cell_type": "code",
   "execution_count": 173,
   "id": "2e16410a-f7e2-4d80-8ff0-3ac5f3473fcc",
   "metadata": {
    "tags": []
   },
   "outputs": [],
   "source": [
    "from surprise import Dataset, Reader, KNNBasic\n",
    "from surprise.model_selection import train_test_split\n",
    "from surprise import accuracy\n",
    "\n",
    "reader = Reader(rating_scale=(1, 101))\n",
    "\n",
    "# Load the DataFrame into a Surprise Dataset object\n",
    "dataset = Dataset.load_from_df(cf_df, reader)"
   ]
  },
  {
   "cell_type": "code",
   "execution_count": 174,
   "id": "91025f11-7d7f-42a4-8749-07e6623c25b4",
   "metadata": {
    "tags": []
   },
   "outputs": [
    {
     "name": "stdout",
     "output_type": "stream",
     "text": [
      "Computing the msd similarity matrix...\n",
      "Done computing similarity matrix.\n"
     ]
    }
   ],
   "source": [
    "# Retrieve the trainset.\n",
    "trainset = dataset.build_full_trainset()\n",
    "\n",
    "# Build an algorithm, and train it.\n",
    "#For simplicity, use KNN distance\n",
    "algo = KNNBasic()\n",
    "algo.fit(trainset)\n",
    "\n",
    "# Then predict ratings for all pairs\n",
    "# Here, we test on train as a sanity check that it's working\n",
    "predictions = algo.test(trainset.build_testset())\n",
    "\n"
   ]
  },
  {
   "cell_type": "code",
   "execution_count": 186,
   "id": "1700ae34-95e8-451a-995f-c03af2fb198c",
   "metadata": {
    "tags": []
   },
   "outputs": [
    {
     "name": "stdout",
     "output_type": "stream",
     "text": [
      "Vaginal Products ['inflammatory disease female pelvic organ', 'mycoses', 'urinary tract infection', 'disorder lipid metabolism', 'diabetes mellitus without complication']\n",
      "Urinary Anti-Infectives ['urinary tract infection', 'genitourinary symptom ill - defined condition', 'diabetes mellitus without complication', 'disorder lipid metabolism', 'diabetes mellitus complication']\n",
      "Laxatives ['gastrointestinal disorder', 'disorder lipid metabolism', 'diabetes mellitus without complication', 'diabetes mellitus complication', 'esophageal disorder']\n",
      "Antidepressants ['disorder lipid metabolism', 'diabetes mellitus without complication', 'anxiety disorder', 'mood disorder', 'diabetes mellitus complication']\n",
      "Dermatologicals ['allergic reaction', 'diabetes mellitus without complication', 'disorder lipid metabolism', 'skin subcutaneous tissue infection', 'diabetes mellitus complication']\n",
      "Adhd/Anti-narcolepsy/Anti-obesity/Anorexiants ['attention - deficit conduct disruptive behavior disorder', 'disorder lipid metabolism', 'diabetes mellitus without complication', 'nervous system disorder', 'mood disorder']\n"
     ]
    }
   ],
   "source": [
    "from collections import defaultdict\n",
    "\n",
    "#This is the actual recommender engine. In practice, a user of this algo can feed in a series of drugs of they've used, and infer their health statuses/conditions\n",
    "def get_top_n(predictions, n=5):\n",
    "    \"\"\"Return the top-N recommendation for each user from a set of predictions.\n",
    "\"\"\"\n",
    "    # First map the predictions to each drug.\n",
    "    top_n = defaultdict(list)\n",
    "    for uid, iid, true_r, est, _ in predictions:\n",
    "        top_n[uid].append((iid, est))\n",
    "\n",
    "    # Then sort the predictions for each drug and retrieve the k highest ones.\n",
    "    for uid, user_ratings in top_n.items():\n",
    "        user_ratings.sort(key=lambda x: x[1], reverse=True)\n",
    "        top_n[uid] = user_ratings[:n]\n",
    "\n",
    "    return top_n\n",
    "\n",
    "top_n = get_top_n(predictions, n=5)\n",
    "\n",
    "# Print sample health statuses based on a drug category\n",
    "for uid, user_ratings in top_n.items():\n",
    "    if uid in ['Antidepressants','Vaginal Products','Urinary Anti-Infectives','Laxatives','Adhd/Anti-narcolepsy/Anti-obesity/Anorexiants','Dermatologicals']:\n",
    "        print(uid, [iid for (iid, _) in user_ratings])"
   ]
  },
  {
   "cell_type": "code",
   "execution_count": null,
   "id": "03e7f033-0892-463d-9c8f-1d45e87ea3b6",
   "metadata": {},
   "outputs": [],
   "source": []
  }
 ],
 "metadata": {
  "environment": {
   "kernel": "conda-root-py",
   "name": "workbench-notebooks.m115",
   "type": "gcloud",
   "uri": "gcr.io/deeplearning-platform-release/workbench-notebooks:m115"
  },
  "kernelspec": {
   "display_name": "Python 3 (ipykernel) (Local)",
   "language": "python",
   "name": "conda-root-py"
  },
  "language_info": {
   "codemirror_mode": {
    "name": "ipython",
    "version": 3
   },
   "file_extension": ".py",
   "mimetype": "text/x-python",
   "name": "python",
   "nbconvert_exporter": "python",
   "pygments_lexer": "ipython3",
   "version": "3.10.13"
  }
 },
 "nbformat": 4,
 "nbformat_minor": 5
}
